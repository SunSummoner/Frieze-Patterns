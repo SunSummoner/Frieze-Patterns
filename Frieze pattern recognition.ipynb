{
 "cells": [
  
  {
   "cell_type": "code",
   "execution_count": 60,
   "metadata": {},
   "outputs": [],
   "source": [
    "def hcut2(img):\n",
    "    import cv2\n",
    "    # start horizontal devide image\n",
    "    height = img.shape[0]\n",
    "    width = img.shape[1]\n",
    "    # Cut the image in half\n",
    "    height_cutoff = height // 2\n",
    "    top = img[:height_cutoff, :]\n",
    "    bottom = img[height_cutoff:, :]\n",
    "    return top,bottom"
   ]
  },
  {
   "cell_type": "code",
   "execution_count": 61,
   "metadata": {},
   "outputs": [],
   "source": [
    "def vcut2(img):\n",
    "    import cv2\n",
    "    # start vertical devide image\n",
    "    height = img.shape[0]\n",
    "    width = img.shape[1]\n",
    "    # Cut the image in half\n",
    "    width_cutoff = width // 2\n",
    "    left = img[:, :width_cutoff]\n",
    "    right = img[:, width_cutoff:]\n",
    "    return left,right"
   ]
  },
  {
   "cell_type": "code",
   "execution_count": 62,
   "metadata": {},
   "outputs": [],
   "source": [
    "def cut4(img):\n",
    "    import cv2\n",
    "    ##########################################\n",
    "    # At first vertical devide image         #\n",
    "    ##########################################\n",
    "    # start vertical devide image\n",
    "    height = img.shape[0]\n",
    "    width = img.shape[1]\n",
    "    # Cut the image in half\n",
    "    width_cutoff = width // 2\n",
    "    left1 = img[:, :width_cutoff]\n",
    "    right1 = img[:, width_cutoff:]\n",
    "    # finish vertical devide image\n",
    "    ##########################################\n",
    "    # At first Horizontal devide left1 image #\n",
    "    ##########################################\n",
    "    #rotate image LEFT1 to 90 CLOCKWISE\n",
    "    img = cv2.rotate(left1, cv2.ROTATE_90_CLOCKWISE)\n",
    "    # start vertical devide image\n",
    "    height = img.shape[0]\n",
    "    width = img.shape[1]\n",
    "    # Cut the image in half\n",
    "    width_cutoff = width // 2\n",
    "    l1 = img[:, :width_cutoff]\n",
    "    l2 = img[:, width_cutoff:]\n",
    "    # finish vertical devide image\n",
    "    #rotate image to 90 COUNTERCLOCKWISE\n",
    "    l1 = cv2.rotate(l1, cv2.ROTATE_90_COUNTERCLOCKWISE)\n",
    "    #save\n",
    "    cv2.imwrite(\"one_horisont_1.jpg\", l1)\n",
    "    #rotate image to 90 COUNTERCLOCKWISE\n",
    "    l2 = cv2.rotate(l2, cv2.ROTATE_90_COUNTERCLOCKWISE)\n",
    "    #save\n",
    "    cv2.imwrite(\"one_horisont_2.jpg\", l2)\n",
    "    ##########################################\n",
    "    # At first Horizontal devide right1 image#\n",
    "    ##########################################\n",
    "    #rotate image RIGHT1 to 90 CLOCKWISE\n",
    "    img = cv2.rotate(right1, cv2.ROTATE_90_CLOCKWISE)\n",
    "    # start vertical devide image\n",
    "    height = img.shape[0]\n",
    "    width = img.shape[1]\n",
    "    # Cut the image in half\n",
    "    width_cutoff = width // 2\n",
    "    r1 = img[:, :width_cutoff]\n",
    "    r2 = img[:, width_cutoff:]\n",
    "    # finish vertical devide image\n",
    "    #rotate image to 90 COUNTERCLOCKWISE\n",
    "    r1 = cv2.rotate(r1, cv2.ROTATE_90_COUNTERCLOCKWISE)\n",
    "    #save\n",
    "    cv2.imwrite(\"second_vhorisont_1.jpg\", r1)\n",
    "    #rotate image to 90 COUNTERCLOCKWISE\n",
    "    r2 = cv2.rotate(r2, cv2.ROTATE_90_COUNTERCLOCKWISE)\n",
    "    #save\n",
    "    cv2.imwrite(\"second_horisont_2.jpg\", r2)\n",
    "    return l1,l2,r1,r2"
   ]
  },
  {
   "cell_type": "code",
   "execution_count": 63,
   "metadata": {},
   "outputs": [],
   "source": [
    "def matmean(img1,img2):\n",
    "    import numpy as np\n",
    "    r1=removeZeroRowCol(img1)\n",
    "    r2=removeZeroRowCol(img2)\n",
    "    r1[np.where(r1==0)]=int(1)\n",
    "    r2[np.where(r2==0)]=int(1)\n",
    "    out = np.divide(r1,r2)\n",
    "    return (np.mean(out))"
   ]
  },
  {
   "cell_type": "code",
   "execution_count": 64,
   "metadata": {},
   "outputs": [],
   "source": [
    "def removeZeroRowCol(data):\n",
    "    import cv2\n",
    "    import numpy as np\n",
    "    data = data[~np.all(data == 0, axis=1)]\n",
    "    data = cv2.rotate(data, cv2.ROTATE_90_CLOCKWISE)\n",
    "    data = data[~np.all(data == 0, axis=1)]\n",
    "    data = cv2.rotate(data, cv2.ROTATE_90_COUNTERCLOCKWISE)\n",
    "    data = data[~np.all(data == 255, axis=1)]\n",
    "    data = cv2.rotate(data, cv2.ROTATE_90_CLOCKWISE)\n",
    "    data = data[~np.all(data == 255, axis=1)]\n",
    "    data = cv2.rotate(data, cv2.ROTATE_90_COUNTERCLOCKWISE)\n",
    "    return data\n"
   ]
  },
  {
   "cell_type": "code",
   "execution_count": 65,
   "metadata": {},
   "outputs": [],
   "source": [
    "def tocanny(img):\n",
    "\timport cv2\n",
    "\timport matplotlib as plt\n",
    "\n",
    "\t\n",
    "\n",
    "\t# Defining all the parameters\n",
    "\tt_lower = 100 # Lower Threshold\n",
    "\tt_upper = 200 # Upper threshold\n",
    "\taperture_size = 5 # Aperture size\n",
    "\tL2Gradient = True # Boolean\n",
    "\n",
    "\t#\t Applying the Canny Edge filter\n",
    "\t# with Aperture Size and L2Gradient\n",
    "\tedge = cv2.Canny(img, t_lower, t_upper,\n",
    "\t\t\t\tapertureSize = aperture_size,\n",
    "\t\t\t\tL2gradient = L2Gradient )\n",
    "\treturn edge\n",
    "\n"
   ]
  },
  {
   "cell_type": "code",
   "execution_count": 66,
   "metadata": {},
   "outputs": [],
   "source": [
    "import numpy as np\n",
    "\n",
    "def equalize(a, b):\n",
    "    if a.shape[0] > b.shape[0]:\n",
    "        b = np.pad(b, ((0, a.shape[0]-b.shape[0]), (0, 0)), 'constant', constant_values=1)\n",
    "    elif b.shape[0] > a.shape[0]:\n",
    "        a = np.pad(a, ((0, b.shape[0]-a.shape[0]), (0, 0)), 'constant', constant_values=1)\n",
    "    if a.shape[1] > b.shape[1]:\n",
    "        b = np.pad(b, ((0, 0), (0, a.shape[1]-b.shape[1])), 'constant', constant_values=1)\n",
    "    elif b.shape[1] > a.shape[1]:\n",
    "        a = np.pad(a, ((0, 0), (0, b.shape[1]-a.shape[1])), 'constant', constant_values=1)\n",
    "    return a, b\n",
    "\n"
   ]
  },
  {
   "cell_type": "code",
   "execution_count": 67,
   "metadata": {},
   "outputs": [],
   "source": [
    "def isp1g(img):\n",
    "    import cv2\n",
    "    import numpy as np\n",
    "    h = img.shape[0]\n",
    "    w = img.shape[1]\n",
    "    im1=img[:, :w//4]\n",
    "    im2=img[:, w//4:w//2]\n",
    "    img_flip_ud = cv2.flip(im1, 0)\n",
    "    e1=tocanny(im1)\n",
    "    e2=tocanny(im2)\n",
    "    e3=tocanny(img_flip_ud)\n",
    "    r1=removeZeroRowCol(e1)\n",
    "    r2=removeZeroRowCol(e2)\n",
    "    r3=removeZeroRowCol(e3)\n",
    "    r2, r3 = equalize(r2,r3)\n",
    "    m1=matmean(r2,r3)\n",
    "    m2=matmean(r3,r2)\n",
    "    if (np.array_equal(r2,r3)==True or min(m1,m2)<=30):\n",
    "        return(min(m1,m2))\n",
    "        \n",
    "    else:\n",
    "        return 255"
   ]
  },
  {
   "cell_type": "code",
   "execution_count": 68,
   "metadata": {},
   "outputs": [],
   "source": [
    "def isp11(img):\n",
    "    import cv2\n",
    "    import numpy as np\n",
    "    h = img.shape[0]\n",
    "    w = img.shape[1]\n",
    "    im1=img[:, :w//4]\n",
    "    im2=img[:, w//4:w//2]\n",
    "    e1=tocanny(im1)\n",
    "    e2=tocanny(im2)\n",
    "    r1=removeZeroRowCol(e1)\n",
    "    r2=removeZeroRowCol(e2)\n",
    "    r1,r2= equalize(r1,r2)\n",
    "    m1=matmean(r2,r1)\n",
    "    m2=matmean(r1,r2)\n",
    "    if (np.array_equal(r2,r1)==True or min(m1,m2)<=30):\n",
    "        return(min(m1,m2))\n",
    "    else:\n",
    "        return 255"
   ]
  },
  {
   "cell_type": "code",
   "execution_count": 69,
   "metadata": {},
   "outputs": [],
   "source": [
    "def isp2(img):\n",
    "    import cv2\n",
    "    import numpy as np\n",
    "    h = img.shape[0]\n",
    "    w = img.shape[1]\n",
    "    im1=img[:, :w//4]\n",
    "    im2=img[:, w//4:w//2]\n",
    "    img_flip_lr = cv2.flip(im1,0)\n",
    "    img_cw_180 = cv2.rotate(img_flip_lr, cv2.ROTATE_180)\n",
    "    e1=tocanny(im1)\n",
    "    e2=tocanny(im2)\n",
    "    e3=tocanny(img_cw_180)\n",
    "    r1=removeZeroRowCol(e1)\n",
    "    r2=removeZeroRowCol(e2)\n",
    "    r3=removeZeroRowCol(e3)\n",
    "    r2, r3 = equalize(r2,r3) \n",
    "    m1=matmean(r2,r3)\n",
    "    m2=matmean(r3,r2)\n",
    "    if (np.array_equal(r2,r3)==True or min(m1,m2)<=30):\n",
    "        return(min(m1,m2))\n",
    "        \n",
    "    else:\n",
    "        return 255\n"
   ]
  },
  {
   "cell_type": "code",
   "execution_count": 70,
   "metadata": {},
   "outputs": [],
   "source": [
    "def ispmm(img):\n",
    "    if isp11(img)<=30 and isp1g(img)<=30 and isp2(img)<=30 :\n",
    "        return (min(isp11(img),isp1g(img),isp2(img)))\n",
    "    else:\n",
    "        return 255"
   ]
  },
  {
   "cell_type": "code",
   "execution_count": 71,
   "metadata": {},
   "outputs": [],
   "source": [
    "def isp1m(img):\n",
    "    if isp11(img)<=30 and isp1g(img)<=30 and isp2(img)>30  :\n",
    "        return min(isp11(img),isp1g(img))\n",
    "    else:\n",
    "        return 255"
   ]
  },
  {
   "cell_type": "code",
   "execution_count": 72,
   "metadata": {},
   "outputs": [],
   "source": [
    "def ispm1(img):\n",
    "    if isp11(img)<=30 and isp2(img)<=30 and isp1g(img)>30:\n",
    "        return min(isp11(img),isp2(img))\n",
    "    else:\n",
    "        return 255"
   ]
  },
  {
   "cell_type": "code",
   "execution_count": 73,
   "metadata": {},
   "outputs": [],
   "source": [
    "def isp2m(img):\n",
    "    import cv2\n",
    "    import numpy as np\n",
    "    h = img.shape[0]\n",
    "    w = img.shape[1]\n",
    "    im1=img[:, :w//4]\n",
    "    im2=img[:, w//4:w//2]\n",
    "    img_180 = cv2.rotate(im1, cv2.ROTATE_180)\n",
    "    e1=tocanny(im1)\n",
    "    e2=tocanny(im2)\n",
    "    e3=tocanny(img_180)\n",
    "    r1=removeZeroRowCol(e1)\n",
    "    r2=removeZeroRowCol(e2)\n",
    "    r3=removeZeroRowCol(e3)\n",
    "    r2, r3 = equalize(r2,r3)\n",
    "    m1=matmean(r2,r3)\n",
    "    m2=matmean(r3,r2)\n",
    "    if ((np.array_equal(r2,r3)==True or min(m1,m2)<=30) and isp11==False):\n",
    "        return(min(m1,m2))\n",
    "        \n",
    "    else:\n",
    "        \n",
    "        return 255"
   ]
  },
  {
   "cell_type": "code",
   "execution_count": 74,
   "metadata": {},
   "outputs": [],
   "source": [
    "def is_p2(img):\n",
    "    import cv2\n",
    "    import numpy as np\n",
    "    try:\n",
    "        h = img.shape[0]\n",
    "        w = img.shape[1]\n",
    "        top = img[:h//2, :]\n",
    "        bottom = img[h//2:, :]\n",
    "        bottom = cv2.flip(bottom, 0)\n",
    "        bottom = cv2.rotate(bottom, cv2.ROTATE_180)\n",
    "        top=top[:, :w//4]\n",
    "        bottom=bottom[:, :w//4]\n",
    "        top=tocanny(top)\n",
    "        b1=tocanny(bottom)\n",
    "        r2=removeZeroRowCol(top)\n",
    "        r3=removeZeroRowCol(b1)\n",
    "        r2, r3 = equalize(r2,r3)\n",
    "        m1=matmean(r2,r3)\n",
    "        m2=matmean(r3,r2)\n",
    "        if ((np.array_equal(r2,r3)==True or min(m1,m2)<=30)):\n",
    "            return(min(m1,m2))\n",
    "            \n",
    "        else:\n",
    "            \n",
    "            return 255\n",
    "    except:\n",
    "        return 255\n"
   ]
  },
  {
   "cell_type": "code",
   "execution_count": 75,
   "metadata": {},
   "outputs": [],
   "source": [
    "def ispattern(img):\n",
    "    pass"
   ]
  },
  {
   "cell_type": "code",
   "execution_count": 76,
   "metadata": {},
   "outputs": [],
   "source": [
    "#driver function\n",
    "def rec_frieze(img):\n",
    "    frieze={\"p11\":isp11(img),\"p1g\":isp1g(img),\"pmm\":ispmm(img),\"p1m\":isp1m(img),\"pm1\":ispm1(img),\"p2\":is_p2(img),\"p2m\":isp2m(img)}\n",
    "    min_value = min(frieze.values())\n",
    "    min_key = [k for k, v in frieze.items() if v == min_value][0]\n",
    "    if min_value>100:\n",
    "        print(\"There is no pattern\")\n",
    "    elif min_value>30 and min_value<=100:\n",
    "        print(\"The pattern prediction has high chances of being incorrect\")\n",
    "        print(min_key)\n",
    "    else:\n",
    "        print(\"The predicted pattern : \", min_key)"
   ]
  },
  {
   "cell_type": "code",
   "execution_count": 105,
   "metadata": {},
   "outputs": [
    {
     "name": "stdout",
     "output_type": "stream",
     "text": [
      "The predicted pattern :  p1g\n"
     ]
    }
   ],
   "source": [
    "import cv2\n",
    "import numpy as np\n",
    "#p11 = [\"C:/Users/DELL/Desktop/CIC/Semester 4/Probability/SLP Pictures/Frieze-Patterns-master/Data/p11/1.png\",\"C:\\Users\\DELL\\Desktop\\CIC\\Semester 4\\Probability\\SLP Pictures\\Frieze-Patterns-master\\Data\\p11\\2.png\",\"C:\\Users\\DELL\\Desktop\\CIC\\Semester 4\\Probability\\SLP Pictures\\Frieze-Patterns-master\\Data\\p11\\3.png\",\"C:\\Users\\DELL\\Desktop\\CIC\\Semester 4\\Probability\\SLP Pictures\\Frieze-Patterns-master\\Data\\p11\\4.jpg\",\"C:\\Users\\DELL\\Desktop\\CIC\\Semester 4\\Probability\\SLP Pictures\\Frieze-Patterns-master\\Data\\p11\\5.png\",\"C:\\Users\\DELL\\Desktop\\CIC\\Semester 4\\Probability\\SLP Pictures\\Frieze-Patterns-master\\Data\\p11\\6.jpg\",\"C:\\Users\\DELL\\Desktop\\CIC\\Semester 4\\Probability\\SLP Pictures\\Frieze-Patterns-master\\Data\\p11\\7.jpg\",\"C:\\Users\\DELL\\Desktop\\CIC\\Semester 4\\Probability\\SLP Pictures\\Frieze-Patterns-master\\Data\\p11\\8.jpg\",\"C:\\Users\\DELL\\Desktop\\CIC\\Semester 4\\Probability\\SLP Pictures\\Frieze-Patterns-master\\Data\\p11\\9.jpg\",\"C:\\Users\\DELL\\Desktop\\CIC\\Semester 4\\Probability\\SLP Pictures\\Frieze-Patterns-master\\Data\\p11\\10.jpg\",\":\\Users\\DELL\\Desktop\\CIC\\Semester 4\\Probability\\SLP Pictures\\Frieze-Patterns-master\\Data\\p11\\11.jpg\",\"C:\\Users\\DELL\\Desktop\\CIC\\Semester 4\\Probability\\SLP Pictures\\Frieze-Patterns-master\\Data\\p11\\12.jpg\",\"C:\\Users\\DELL\\Desktop\\CIC\\Semester 4\\Probability\\SLP Pictures\\Frieze-Patterns-master\\Data\\p11\\13.jpg\",\"C:\\Users\\DELL\\Desktop\\CIC\\Semester 4\\Probability\\SLP Pictures\\Frieze-Patterns-master\\Data\\p11\\14.jpg\",\"C:\\Users\\DELL\\Desktop\\CIC\\Semester 4\\Probability\\SLP Pictures\\Frieze-Patterns-master\\Data\\p11\\15.jpg\",\"C:\\Users\\DELL\\Desktop\\CIC\\Semester 4\\Probability\\SLP Pictures\\Frieze-Patterns-master\\Data\\p11\\16.jpg\",\"C:\\Users\\DELL\\Desktop\\CIC\\Semester 4\\Probability\\SLP Pictures\\Frieze-Patterns-master\\Data\\p11\\17.jpg\",\"C:\\Users\\DELL\\Desktop\\CIC\\Semester 4\\Probability\\SLP Pictures\\Frieze-Patterns-master\\Data\\p11\\18.jpg\",\"C:\\Users\\DELL\\Desktop\\CIC\\Semester 4\\Probability\\SLP Pictures\\Frieze-Patterns-master\\Data\\p11\\19.jpg\"]\n",
    "path = 'C:/Users/DELL/Desktop/CIC/Semester 4/Probability/SLP Pictures/Frieze-Patterns-master/Data/p1g/5.jpg'\n",
    "img = cv2.imread(path)[:,:,0]\n",
    "rec_frieze(img)"
   ]
  }
 ],
 "metadata": {
  "kernelspec": {
   "display_name": "Python 3",
   "language": "python",
   "name": "python3"
  },
  "language_info": {
   "codemirror_mode": {
    "name": "ipython",
    "version": 3
   },
   "file_extension": ".py",
   "mimetype": "text/x-python",
   "name": "python",
   "nbconvert_exporter": "python",
   "pygments_lexer": "ipython3",
   "version": "3.10.5"
  },
  "orig_nbformat": 4
 },
 "nbformat": 4,
 "nbformat_minor": 2
}
