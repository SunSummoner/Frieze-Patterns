Only For real world images
